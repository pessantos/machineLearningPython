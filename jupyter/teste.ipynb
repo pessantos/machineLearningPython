{
 "cells": [
  {
   "cell_type": "markdown",
   "id": "749923e7-6fa8-4a13-93b0-7cef60c1431c",
   "metadata": {},
   "source": [
    "# Primeiro notebook"
   ]
  },
  {
   "cell_type": "code",
   "execution_count": 1,
   "id": "ef481499-9c11-4467-8f6b-8f7f04e77486",
   "metadata": {},
   "outputs": [
    {
     "name": "stdout",
     "output_type": "stream",
     "text": [
      "Olá, mundo\n"
     ]
    }
   ],
   "source": [
    "print('Olá, mundo')"
   ]
  },
  {
   "cell_type": "code",
   "execution_count": 2,
   "id": "dd709a6d-5f53-4089-bde2-476976b6b386",
   "metadata": {},
   "outputs": [
    {
     "data": {
      "text/plain": [
       "12"
      ]
     },
     "execution_count": 2,
     "metadata": {},
     "output_type": "execute_result"
    }
   ],
   "source": [
    "4*3"
   ]
  }
 ],
 "metadata": {
  "kernelspec": {
   "display_name": "Python 3 (ipykernel)",
   "language": "python",
   "name": "python3"
  },
  "language_info": {
   "codemirror_mode": {
    "name": "ipython",
    "version": 3
   },
   "file_extension": ".py",
   "mimetype": "text/x-python",
   "name": "python",
   "nbconvert_exporter": "python",
   "pygments_lexer": "ipython3",
   "version": "3.12.7"
  }
 },
 "nbformat": 4,
 "nbformat_minor": 5
}
