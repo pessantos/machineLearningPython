


print('Olá, mundo')


4*3
